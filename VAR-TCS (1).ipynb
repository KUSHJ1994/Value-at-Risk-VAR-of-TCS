{
 "cells": [
  {
   "cell_type": "markdown",
   "metadata": {
    "id": "0qYvRTglG537"
   },
   "source": [
    "# Value at Risk Assessment Model"
   ]
  },
  {
   "cell_type": "markdown",
   "metadata": {
    "id": "n9SHyrgqG538"
   },
   "source": [
    "### Import Packages\n"
   ]
  },
  {
   "cell_type": "code",
   "execution_count": 1,
   "metadata": {
    "id": "6zwRJlzeLaqq"
   },
   "outputs": [],
   "source": [
    "# Import packages\n",
    "import numpy as np\n",
    "import pandas as pd\n",
    "import matplotlib.pyplot as plt\n",
    "import yfinance as yf"
   ]
  },
  {
   "cell_type": "markdown",
   "metadata": {
    "id": "S9eWw_mrG53-"
   },
   "source": [
    "### Distributions - Set Up Stock Parameters"
   ]
  },
  {
   "cell_type": "code",
   "execution_count": 2,
   "metadata": {
    "colab": {
     "base_uri": "https://localhost:8080/"
    },
    "executionInfo": {
     "elapsed": 181,
     "status": "ok",
     "timestamp": 1626320248024,
     "user": {
      "displayName": "Yuting Zhao",
      "photoUrl": "https://lh3.googleusercontent.com/a-/AOh14GgTx8nXEgksfFAELok_uktVap8BK_FeqQbCMfOqOQ=s64",
      "userId": "08092881124962313525"
     },
     "user_tz": 420
    },
    "id": "TWE2nRZhG53_",
    "outputId": "7b19be3c-ad85-484a-e6fb-e73330f9269a"
   },
   "outputs": [
    {
     "name": "stdout",
     "output_type": "stream",
     "text": [
      "yfinance.Ticker object <TCS.NS>\n",
      "---------\n",
      "3451.0\n"
     ]
    }
   ],
   "source": [
    "# Number of shares\n",
    "shares_TCS = 1000\n",
    "\n",
    "# Live stock price\n",
    "price = yf.Ticker('TCS.NS')\n",
    "price_TCS = price.history().tail(1)['Close'].iloc[0]\n",
    "\n",
    "print(price)\n",
    "print('---------')\n",
    "print(price_TCS)"
   ]
  },
  {
   "cell_type": "code",
   "execution_count": 3,
   "metadata": {
    "id": "1pwJU3PdLaqs"
   },
   "outputs": [
    {
     "name": "stdout",
     "output_type": "stream",
     "text": [
      "3451000.0\n"
     ]
    }
   ],
   "source": [
    "# Investment value\n",
    "value_TCS = price_TCS * shares_TCS\n",
    "\n",
    "# Risk free rate (10 year Treasury Rate)\n",
    "rfr_TCS = 0.035\n",
    "\n",
    "# Volatility (30-day volatility at that time)\n",
    "vol_TCS = 0.0127\n",
    "print(value_TCS)"
   ]
  },
  {
   "cell_type": "markdown",
   "metadata": {
    "id": "Tx3t5Yu0G54C"
   },
   "source": [
    "### Simulations - Calculate Investment Returns"
   ]
  },
  {
   "cell_type": "code",
   "execution_count": 4,
   "metadata": {
    "id": "DV0RqdK2G54D"
   },
   "outputs": [],
   "source": [
    "# Number of simulations\n",
    "simulations = 5000 \n",
    "\n",
    "# Investment time in a year\n",
    "t_TCS = 21/252 "
   ]
  },
  {
   "cell_type": "code",
   "execution_count": 5,
   "metadata": {
    "colab": {
     "base_uri": "https://localhost:8080/",
     "height": 811
    },
    "executionInfo": {
     "elapsed": 752,
     "status": "ok",
     "timestamp": 1624456739147,
     "user": {
      "displayName": "Lester Leong",
      "photoUrl": "https://lh3.googleusercontent.com/a-/AOh14GhESsAP_U-p-CX8EsBjBg4EszjEo6Qb0zr-LMf14g=s64",
      "userId": "17427307644910609596"
     },
     "user_tz": 300
    },
    "id": "3uhH4lTRG54E",
    "outputId": "e3c6ca8d-496f-41c8-ffb6-c880870d83a3"
   },
   "outputs": [
    {
     "data": {
      "text/plain": [
       "(array([  1.,   0.,   0.,   0.,   0.,   0.,   0.,   0.,   0.,   0.,   0.,\n",
       "          0.,   0.,   0.,   0.,   0.,   1.,   2.,   1.,   2.,   4.,   4.,\n",
       "          4.,   6.,  13.,   7.,  12.,  16.,  13.,  21.,  18.,  23.,  24.,\n",
       "         43.,  24.,  44.,  50.,  50.,  52.,  58.,  74.,  74.,  99.,  96.,\n",
       "         99.,  95., 101., 129., 135., 136., 129., 144., 160., 151., 152.,\n",
       "        161., 157., 160., 172., 156., 156., 131., 129., 100., 122., 114.,\n",
       "        128., 102., 105., 119.,  81.,  65.,  60.,  61.,  57.,  45.,  50.,\n",
       "         50.,  33.,  35.,  29.,  23.,  26.,  25.,  22.,  15.,   5.,   9.,\n",
       "          8.,   4.,   2.,   5.,   1.,   7.,   1.,   0.,   0.,   1.,   0.,\n",
       "          1.]),\n",
       " array([-4.41021219, -4.33214754, -4.25408288, -4.17601823, -4.09795357,\n",
       "        -4.01988892, -3.94182426, -3.86375961, -3.78569495, -3.70763029,\n",
       "        -3.62956564, -3.55150098, -3.47343633, -3.39537167, -3.31730702,\n",
       "        -3.23924236, -3.1611777 , -3.08311305, -3.00504839, -2.92698374,\n",
       "        -2.84891908, -2.77085443, -2.69278977, -2.61472512, -2.53666046,\n",
       "        -2.4585958 , -2.38053115, -2.30246649, -2.22440184, -2.14633718,\n",
       "        -2.06827253, -1.99020787, -1.91214321, -1.83407856, -1.7560139 ,\n",
       "        -1.67794925, -1.59988459, -1.52181994, -1.44375528, -1.36569063,\n",
       "        -1.28762597, -1.20956131, -1.13149666, -1.053432  , -0.97536735,\n",
       "        -0.89730269, -0.81923804, -0.74117338, -0.66310873, -0.58504407,\n",
       "        -0.50697941, -0.42891476, -0.3508501 , -0.27278545, -0.19472079,\n",
       "        -0.11665614, -0.03859148,  0.03947318,  0.11753783,  0.19560249,\n",
       "         0.27366714,  0.3517318 ,  0.42979645,  0.50786111,  0.58592576,\n",
       "         0.66399042,  0.74205508,  0.82011973,  0.89818439,  0.97624904,\n",
       "         1.0543137 ,  1.13237835,  1.21044301,  1.28850766,  1.36657232,\n",
       "         1.44463698,  1.52270163,  1.60076629,  1.67883094,  1.7568956 ,\n",
       "         1.83496025,  1.91302491,  1.99108957,  2.06915422,  2.14721888,\n",
       "         2.22528353,  2.30334819,  2.38141284,  2.4594775 ,  2.53754215,\n",
       "         2.61560681,  2.69367147,  2.77173612,  2.84980078,  2.92786543,\n",
       "         3.00593009,  3.08399474,  3.1620594 ,  3.24012406,  3.31818871,\n",
       "         3.39625337]),\n",
       " <BarContainer object of 100 artists>)"
      ]
     },
     "execution_count": 5,
     "metadata": {},
     "output_type": "execute_result"
    },
    {
     "data": {
      "image/png": "[encoded data removed]",
      "text/plain": [
       "<Figure size 432x288 with 1 Axes>"
      ]
     },
     "metadata": {
      "needs_background": "light"
     },
     "output_type": "display_data"
    }
   ],
   "source": [
    "# Explain np.random.standard_normal\n",
    "sample = np.random.standard_normal(5000)\n",
    "plt.hist(sample,bins=100)"
   ]
  },
  {
   "cell_type": "code",
   "execution_count": 6,
   "metadata": {
    "colab": {
     "base_uri": "https://localhost:8080/"
    },
    "executionInfo": {
     "elapsed": 8,
     "status": "ok",
     "timestamp": 1624456739148,
     "user": {
      "displayName": "Lester Leong",
      "photoUrl": "https://lh3.googleusercontent.com/a-/AOh14GhESsAP_U-p-CX8EsBjBg4EszjEo6Qb0zr-LMf14g=s64",
      "userId": "17427307644910609596"
     },
     "user_tz": 300
    },
    "id": "ecg0kj4PG54F",
    "outputId": "9ba22a66-a2f1-4820-a054-35549fd32622"
   },
   "outputs": [
    {
     "name": "stdout",
     "output_type": "stream",
     "text": [
      "0.0007489815834777403\n",
      "1.0059623098038644\n"
     ]
    }
   ],
   "source": [
    "print(np.mean(sample))\n",
    "print(np.std(sample))"
   ]
  },
  {
   "cell_type": "code",
   "execution_count": 7,
   "metadata": {
    "id": "0oUobTOZLaqs"
   },
   "outputs": [
    {
     "name": "stdout",
     "output_type": "stream",
     "text": [
      "[16953.84079045 -3549.10275749 14759.2027027  ... 19125.06389708\n",
      " 17432.73772522 43101.75537334]\n"
     ]
    }
   ],
   "source": [
    "# Create a function to calculate the returns of the investment\n",
    "def VaR(pv, rfr, vol, t, simulations):\n",
    "    end_value = pv * np.exp((rfr - .5 * vol ** 2) * t + np.random.standard_normal(\n",
    "        simulations) * vol * np.sqrt(t))\n",
    "    returns = end_value - pv\n",
    "    return returns\n",
    "\n",
    "# Apply the VaR function to simulate the returns\n",
    "returns_TCS = VaR(value_TCS, rfr_TCS, vol_TCS, t_TCS, simulations)\n",
    "print(returns_TCS)"
   ]
  },
  {
   "cell_type": "markdown",
   "metadata": {
    "id": "nvhBrW_1G54H"
   },
   "source": [
    "### Quantifications - Identify VaR at 90%, 95%, and 99% Confidence Level"
   ]
  },
  {
   "cell_type": "code",
   "execution_count": 8,
   "metadata": {
    "colab": {
     "base_uri": "https://localhost:8080/"
    },
    "executionInfo": {
     "elapsed": 6,
     "status": "ok",
     "timestamp": 1624456739149,
     "user": {
      "displayName": "Lester Leong",
      "photoUrl": "https://lh3.googleusercontent.com/a-/AOh14GhESsAP_U-p-CX8EsBjBg4EszjEo6Qb0zr-LMf14g=s64",
      "userId": "17427307644910609596"
     },
     "user_tz": 300
    },
    "id": "gQu-YRHZG54I",
    "outputId": "551f0d02-0383-4274-d375-9e6257c37884"
   },
   "outputs": [
    {
     "name": "stdout",
     "output_type": "stream",
     "text": [
      "VaR at 90% confidence level:  ₹3,451\n"
     ]
    }
   ],
   "source": [
    "# Explain string formatting\n",
    "# Print: VaR at x% confidence level: $y.\n",
    "\n",
    "x = 0.9\n",
    "y = price_TCS\n",
    "print(\"VaR at {:.0%} confidence level:  ₹{:,.0f}\".format(x, y))"
   ]
  },
  {
   "cell_type": "code",
   "execution_count": 9,
   "metadata": {
    "colab": {
     "base_uri": "https://localhost:8080/",
     "height": 316
    },
    "executionInfo": {
     "elapsed": 735,
     "status": "ok",
     "timestamp": 1624456739879,
     "user": {
      "displayName": "Lester Leong",
      "photoUrl": "https://lh3.googleusercontent.com/a-/AOh14GhESsAP_U-p-CX8EsBjBg4EszjEo6Qb0zr-LMf14g=s64",
      "userId": "17427307644910609596"
     },
     "user_tz": 300
    },
    "id": "L5NT-rgIG54K",
    "outputId": "518ae085-5727-4cc0-cad2-4fdbe02ebfd0"
   },
   "outputs": [
    {
     "name": "stdout",
     "output_type": "stream",
     "text": [
      "VaR at 90% confidence level:  ₹-6,121\n",
      "VaR at 95% confidence level:  ₹-10,507\n",
      "VaR at 99% confidence level:  ₹-18,081\n"
     ]
    },
    {
     "data": {
      "image/png": "[encoded data removed]",
      "text/plain": [
       "<Figure size 432x288 with 1 Axes>"
      ]
     },
     "metadata": {
      "needs_background": "light"
     },
     "output_type": "display_data"
    }
   ],
   "source": [
    "# Plot the returns\n",
    "plt.hist(returns_TCS, bins=100);\n",
    "\n",
    "# Show VaR at 90%, 95%, and 99% confidence level\n",
    "percentiles = [10,5,1]\n",
    "\n",
    "for i in percentiles:\n",
    "    confidence = (100-i)/100\n",
    "    value = np.percentile(returns_TCS, i)\n",
    "    print(\"VaR at {:.0%} confidence level:  ₹{:,.0f}\".format(confidence, value))\n",
    "    plt.axvline(value, color = 'red', linestyle='dashed', linewidth=1)"
   ]
  },
  {
   "cell_type": "code",
   "execution_count": null,
   "metadata": {
    "id": "GsUWTH8JG54K"
   },
   "outputs": [],
   "source": []
  }
 ],
 "metadata": {
  "colab": {
   "collapsed_sections": [],
   "name": "03-Value at Risk Assessment V2 (with script).ipynb",
   "provenance": []
  },
  "kernelspec": {
   "display_name": "Python 3 (ipykernel)",
   "language": "python",
   "name": "python3"
  },
  "language_info": {
   "codemirror_mode": {
    "name": "ipython",
    "version": 3
   },
   "file_extension": ".py",
   "mimetype": "text/x-python",
   "name": "python",
   "nbconvert_exporter": "python",
   "pygments_lexer": "ipython3",
   "version": "3.9.12"
  }
 },
 "nbformat": 4,
 "nbformat_minor": 1
}
